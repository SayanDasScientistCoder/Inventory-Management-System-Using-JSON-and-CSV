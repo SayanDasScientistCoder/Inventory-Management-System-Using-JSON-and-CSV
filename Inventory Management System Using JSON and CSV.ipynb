{
 "cells": [
  {
   "cell_type": "markdown",
   "metadata": {},
   "source": [
    "# Inventory Management System"
   ]
  },
  {
   "cell_type": "markdown",
   "metadata": {},
   "source": [
    "## Product Details:- <br>\n",
    "#### 1. Product ID<br>\n",
    "#### 2. Product Name<br>\n",
    "#### 3. Product Price<br>\n",
    "#### 4. Product Quantity"
   ]
  },
  {
   "cell_type": "markdown",
   "metadata": {},
   "source": [
    "## Adding Products"
   ]
  },
  {
   "cell_type": "code",
   "execution_count": 1,
   "metadata": {},
   "outputs": [],
   "source": [
    "import os\n",
    "import json\n",
    "import datetime"
   ]
  },
  {
   "cell_type": "code",
   "execution_count": 2,
   "metadata": {},
   "outputs": [],
   "source": [
    "def newId(s):\n",
    "    l=len(s)\n",
    "    id_list=[False]*(l+1)\n",
    "    \n",
    "    for i in s:\n",
    "        id_list[int(i)]=True\n",
    "    \n",
    "    for i in range(l+1):\n",
    "        if(id_list[i]==False):\n",
    "            break\n",
    "    \n",
    "    return i"
   ]
  },
  {
   "cell_type": "code",
   "execution_count": 3,
   "metadata": {},
   "outputs": [],
   "source": [
    "def addProduct(name,price,quantity):\n",
    "    fd1=open(os.path.dirname(__file__)+\"\\Inventory.json\",\"r\")\n",
    "    s=json.loads(fd1.read())\n",
    "    c=newId(s.keys())\n",
    "    fd1.close()\n",
    "    \n",
    "    fd2=open(os.path.dirname(__file__)+\"\\Inventory.json\",\"w\")\n",
    "    s[c]={'name':name,'price':price,'quantity':quantity}\n",
    "    fd2.write(json.dumps(s))\n",
    "    fd2.close()"
   ]
  },
  {
   "cell_type": "markdown",
   "metadata": {},
   "source": [
    "## Product Details"
   ]
  },
  {
   "cell_type": "code",
   "execution_count": 4,
   "metadata": {},
   "outputs": [],
   "source": [
    "def productDetails(id:str):\n",
    "    fd=open(os.path.dirname(__file__)+\"\\Inventory.json\",\"r\")\n",
    "    s=json.loads(fd.read())\n",
    "    \n",
    "    s2=\"\"\n",
    "    if id in s:\n",
    "        s2=s[id]\n",
    "    else:\n",
    "        print(\"The product is not found.\")\n",
    "        \n",
    "    fd.close()\n",
    "    return s2"
   ]
  },
  {
   "cell_type": "markdown",
   "metadata": {},
   "source": [
    "## Updating Inventory"
   ]
  },
  {
   "cell_type": "code",
   "execution_count": 5,
   "metadata": {},
   "outputs": [],
   "source": [
    "import pandas as pd\n",
    "def updateInventory2(id:int,quantity:int):\n",
    "    flag=False\n",
    "    fd=pd.read_csv(os.path.dirname(__file__)+\"\\Inventory.csv\")\n",
    "    \n",
    "    l=len(fd)\n",
    "    for i in range(l):\n",
    "        if(fd.loc[i,\"ID\"]==id):\n",
    "            flag=True\n",
    "            fd.loc[i,\"Quantity\"]=fd.loc[i,\"Quantity\"]+quantity\n",
    "            break\n",
    "    \n",
    "    if(flag==True):\n",
    "        fd.to_csv(os.path.dirname(__file__)+\"\\Inventory.csv\",index=False)\n",
    "    else:\n",
    "        print(\"Product is not found.\")"
   ]
  },
  {
   "cell_type": "code",
   "execution_count": 6,
   "metadata": {},
   "outputs": [],
   "source": [
    "def updateInventory(id:str,quantity:int):\n",
    "    fd=open(os.path.dirname(__file__)+\"\\Inventory.json\",\"r\")\n",
    "    s=json.loads(fd.read())\n",
    "    fd.close()\n",
    "    \n",
    "    if id in s:\n",
    "        if quantity<0 and s[id][\"quantity\"]<abs(quantity):\n",
    "            print(\"Enough quantity is not present.\")\n",
    "            return False\n",
    "        else:\n",
    "            s[id][\"quantity\"]+=quantity\n",
    "            fd=open(os.path.dirname(__file__)+\"\\Inventory.json\",\"w\")\n",
    "            fd.write(json.dumps(s))\n",
    "            return True\n",
    "    else:\n",
    "        print(\"The product is not found.\")\n",
    "        return False"
   ]
  },
  {
   "cell_type": "markdown",
   "metadata": {},
   "source": [
    "## Updating The Unit Price"
   ]
  },
  {
   "cell_type": "code",
   "execution_count": 7,
   "metadata": {},
   "outputs": [],
   "source": [
    "def updatePrice(id:str,price:int):\n",
    "    fd=open(os.path.dirname(__file__)+\"\\Inventory.json\",\"r\")\n",
    "    s=json.loads(fd.read())\n",
    "    fd.close()\n",
    "    \n",
    "    if id in s:\n",
    "        s[id][\"price\"]=price\n",
    "        fd=open(os.path.dirname(__file__)+\"\\Inventory.json\",\"w\")\n",
    "        fd.write(json.dumps(s))\n",
    "        fd.close()\n",
    "        return True\n",
    "    else:\n",
    "        print(\"The product is not found.\")\n",
    "        return False"
   ]
  },
  {
   "cell_type": "markdown",
   "metadata": {},
   "source": [
    "## Deleting Products"
   ]
  },
  {
   "cell_type": "code",
   "execution_count": 8,
   "metadata": {},
   "outputs": [],
   "source": [
    "def deleteProduct(id:str):\n",
    "    fd=open(os.path.dirname(__file__)+\"\\Inventory.json\",\"r\")\n",
    "    s=json.loads(fd.read())\n",
    "    fd.close()\n",
    "    \n",
    "    if id in s:\n",
    "        s.pop(id)\n",
    "        fd=open(os.path.dirname(__file__)+\"\\Inventory.json\",\"w\")\n",
    "        fd.write(json.dumps(s))\n",
    "        fd.close()\n",
    "        return True\n",
    "    else:\n",
    "        return False"
   ]
  },
  {
   "cell_type": "markdown",
   "metadata": {},
   "source": [
    "## Generating Purchase and Sales Records"
   ]
  },
  {
   "cell_type": "markdown",
   "metadata": {},
   "source": [
    "#### Purchase Details:- <br>\n",
    "#### 1. Merchant Name<br>\n",
    "#### 2. Contact Details of the merchant<br>\n",
    "#### 3. Product ID<br>\n",
    "#### 4. Quantity <br>\n",
    "#### 5. Total Cost<br>\n",
    "#### 6. Purchase Time"
   ]
  },
  {
   "cell_type": "markdown",
   "metadata": {},
   "source": [
    "{\"merchant_name1\":{\"time1\":{\"contacts\":contact,\"id\":id1,\"quantity\":100,\"total cost\":10000},\n",
    "                  \"time2\":{\"contacts\":contact,\"id\":id2,\"quantity\":1000,\"total cost\":10000}},\n",
    "\"merchant_name2\":{\"time2\":{\"contacts\":contact,\"id\":id2,\"quantity\":100,\"total cost\":10000},\n",
    "                  \"time4\":{\"contacts\":contact,\"id\":id4,\"quantity\":1000,\"total cost\":10000}}}"
   ]
  },
  {
   "cell_type": "code",
   "execution_count": 9,
   "metadata": {},
   "outputs": [],
   "source": [
    "def purchase():\n",
    "    fd=open(os.path.dirname(__file__)+\"\\Purchasings.json\",\"r\")\n",
    "    s=json.loads(fd.read())\n",
    "    fd.close()\n",
    "    \n",
    "    \n",
    "    \n",
    "    merchant=input(\"Please enter the merchant name:- \")\n",
    "    contact=input(\"Please enter the contact details of the merchant:- \")\n",
    "    timeArray=[]\n",
    "    \n",
    "    while(True):\n",
    "        id=input(\"Please enter the product id:- \")\n",
    "        q=int(input(\"Please enter the quantity:-\"))\n",
    "        \n",
    "        if(updateInventory(id,q)==True):\n",
    "            details=productDetails(id)\n",
    "            p=details[\"price\"]\n",
    "            \n",
    "            \n",
    "            d=str(datetime.datetime.now())\n",
    "            \n",
    "            if merchant in s:\n",
    "                s[merchant][d]={\"contacts\":contact,\"id\":id,\"quantity\":q,\"total cost\":(p*q)}\n",
    "            else:\n",
    "                s[merchant]={d:{\"contacts\":contact,\"id\":id,\"quantity\":q,\"total cost\":(p*q)}}\n",
    "            \n",
    "            timeArray.append([d,details[\"name\"],details[\"price\"]])\n",
    "            \n",
    "            \n",
    "            \n",
    "        flag=input(\"Do you want to purchase more from the current merchant(Yes:- 1 or No:- 0)?:- \")\n",
    "        if(flag==\"0\"):\n",
    "            break\n",
    "    \n",
    "    fd=open(os.path.dirname(__file__)+\"\\Purchasings.json\",\"w\")\n",
    "    fd.write(json.dumps(s))\n",
    "    fd.close()\n",
    "    \n",
    "    \n",
    "    d=datetime.datetime.now()\n",
    "    filepath=os.path.dirname(__file__)+\"\\Purchasing Receipts\\\\\"+merchant+\" \"+str(d.date())+\" \"+d.strftime(\"%H-%M-%S.%f\")+\".csv\"\n",
    "    fd=open(filepath,\"a\")\n",
    "    print(\"_\"*200)\n",
    "    print(\"Purchasing Receipt on \",datetime.datetime.now(),\":- \",sep=\"\")\n",
    "    fd.write(\"Purchasing Receipt on:-,\"+str(datetime.datetime.now())+\"\\n\")\n",
    "    print(\"Merchant Name:- \"+merchant,sep=\"\")\n",
    "    fd.write(\"Merchant Name:-,\"+merchant+\"\\n\")\n",
    "    print(\"Merchant Contact:- \"+contact)\n",
    "    fd.write(\"Merchant Contact:-,\"+contact+\"\\n\")\n",
    "    print(\"_\"*200)\n",
    "    print(\"Serial Number\\tProduct ID\\tProduct Name\\tUnit Price\\t\\tQuantity Purchased\\tTotal Price\")\n",
    "    fd.write(\"Serial Number,Product ID,Product Name,Unit Price,Quantity Purchased,Total Price\\n\")\n",
    "    print(\"_\"*200)\n",
    "    \n",
    "    t=0\n",
    "    for i in range(len(timeArray)):\n",
    "        print((i+1),\"\\t\",s[merchant][timeArray[i][0]][\"id\"],timeArray[i][1],timeArray[i][2],\"\\t\",s[merchant][timeArray[i][0]][\"quantity\"],\"\\t\",s[merchant][timeArray[i][0]][\"total cost\"],sep=\"\\t\")\n",
    "        fd.write(str(i+1)+\",\"+s[merchant][timeArray[i][0]][\"id\"]+\",\"+timeArray[i][1]+\",\"+str(timeArray[i][2])+\",\"+str(s[merchant][timeArray[i][0]][\"quantity\"])+\",\"+str(s[merchant][timeArray[i][0]][\"total cost\"])+\"\\n\")\n",
    "        t+=s[merchant][timeArray[i][0]][\"total cost\"]\n",
    "        \n",
    "        \n",
    "    print(\"\\t\\t\\t\\t\\t\\t\\t\\t\\tTotal Amount\\t\",t,sep=\"\\t\")\n",
    "    print(\"_\"*200)\n",
    "    fd.write(\",,,,Total Amount,\"+str(t))\n",
    "    fd.close()"
   ]
  },
  {
   "cell_type": "markdown",
   "metadata": {},
   "source": [
    "#### Sales Details:- <br>\n",
    "#### 1. User Name<br>\n",
    "#### 2. Contact Details of the user<br>\n",
    "#### 3. Product ID<br>\n",
    "#### 4. Quantity <br>\n",
    "#### 5. Total Price<br>\n",
    "#### 6. Sales Time"
   ]
  },
  {
   "cell_type": "markdown",
   "metadata": {},
   "source": [
    "{\"username1\":{\"time1\":{\"contacts\":contact,\"id\":id1,\"quantity\":100,\"total cost\":10000},\n",
    "              \"time2\":{\"contacts\":contact,\"id\":id2,\"quantity\":1000,\"total cost\":10000}}, \n",
    "\"username2\":{\"time2\":{\"contacts\":contact,\"id\":id2,\"quantity\":100,\"total cost\":10000},\n",
    "             \"time4\":{\"contacts\":contact,\"id\":id4,\"quantity\":1000,\"total cost\":10000}}}"
   ]
  },
  {
   "cell_type": "code",
   "execution_count": 12,
   "metadata": {},
   "outputs": [],
   "source": [
    "def sales():\n",
    "    fd=open(os.path.dirname(__file__)+\"\\Sales.json\",\"r\")\n",
    "    s=json.loads(fd.read())\n",
    "    fd.close()\n",
    "    \n",
    "    \n",
    "    \n",
    "    un=input(\"Please enter your user name:- \")\n",
    "    contact=input(\"Please enter your contact details:- \")\n",
    "    timeArray=[]\n",
    "    totalCost=0\n",
    "    \n",
    "    while(True):\n",
    "        id=input(\"Please enter the product id:- \")\n",
    "        q=int(input(\"Please enter the quantity:-\"))\n",
    "        \n",
    "        if(updateInventory(id,q)==True):\n",
    "            details=productDetails(id)\n",
    "            p=details[\"price\"]\n",
    "            \n",
    "            \n",
    "            d=str(datetime.datetime.now())\n",
    "            totalCost+=p*q\n",
    "            \n",
    "            if un in s:\n",
    "                s[un][d]={\"contacts\":contact,\"id\":id,\"quantity\":q,\"total cost\":(p*q)}\n",
    "            else:\n",
    "                s[un]={d:{\"contacts\":contact,\"id\":id,\"quantity\":q,\"total cost\":(p*q)}}\n",
    "            \n",
    "            timeArray.append([d,details[\"name\"],details[\"price\"]])\n",
    "            \n",
    "            \n",
    "            \n",
    "        flag=input(\"Do you want to buy more(Yes:- 1 or No:- 0)?:- \")\n",
    "        if(flag==\"0\"):\n",
    "            break\n",
    "    \n",
    "    t=totalCost\n",
    "    if totalCost>=10000:\n",
    "        t=totalCost*0.8\n",
    "        for i in timeArray:\n",
    "            s[un][i[0]][\"total cost\"]=s[un][i[0]][\"total cost\"]*0.8\n",
    "    \n",
    "        \n",
    "    fd=open(os.path.dirname(__file__)+\"\\Sales.json\",\"w\")\n",
    "    fd.write(json.dumps(s))\n",
    "    fd.close()\n",
    "    \n",
    "    \n",
    "    d=datetime.datetime.now()\n",
    "    filepath=os.path.dirname(__file__)+\"\\Sales Receipts\\\\\"+un+\" \"+str(d.date())+\" \"+d.strftime(\"%H-%M-%S.%f\")+\".csv\"\n",
    "    fd=open(filepath,\"a\")\n",
    "    print(\"_\"*200)\n",
    "    print(\"Sales Receipt on \",datetime.datetime.now(),\":- \",sep=\"\")\n",
    "    fd.write(\"Sales Receipt on:-,\"+str(datetime.datetime.now())+\"\\n\")\n",
    "    print(\"User Name:- \"+un,sep=\"\")\n",
    "    fd.write(\"User Name:-,\"+un+\"\\n\")\n",
    "    print(\"User Contact:- \"+contact)\n",
    "    fd.write(\"User Contact:-,\"+contact+\"\\n\")\n",
    "    print(\"_\"*200)\n",
    "    print(\"Serial Number\\tProduct ID\\tProduct Name\\tUnit Price\\t\\tQuantity Purchased\\tTotal Price\")\n",
    "    fd.write(\"Serial Number,Product ID,Product Name,Unit Price,Quantity Purchased,Total Price\\n\")\n",
    "    print(\"_\"*200)\n",
    "    \n",
    "    for i in range(len(timeArray)):\n",
    "        if t==totalCost:\n",
    "            print((i+1),\"\\t\",s[un][timeArray[i][0]][\"id\"],timeArray[i][1],timeArray[i][2],\"\\t\",s[un][timeArray[i][0]][\"quantity\"],\"\\t\",s[un][timeArray[i][0]][\"total cost\"],sep=\"\\t\")\n",
    "            fd.write(str(i+1)+\",\"+s[un][timeArray[i][0]][\"id\"]+\",\"+timeArray[i][1]+\",\"+str(timeArray[i][2])+\",\"+str(s[un][timeArray[i][0]][\"quantity\"])+\",\"+str(s[un][timeArray[i][0]][\"total cost\"])+\"\\n\")\n",
    "        else:\n",
    "            print((i+1),\"\\t\",s[un][timeArray[i][0]][\"id\"],timeArray[i][1],timeArray[i][2],\"\\t\",s[un][timeArray[i][0]][\"quantity\"],\"\\t\",s[un][timeArray[i][0]][\"total cost\"]*1.25,sep=\"\\t\")\n",
    "            fd.write(str(i+1)+\",\"+s[un][timeArray[i][0]][\"id\"]+\",\"+timeArray[i][1]+\",\"+str(timeArray[i][2])+\",\"+str(s[un][timeArray[i][0]][\"quantity\"])+\",\"+str(s[un][timeArray[i][0]][\"total cost\"]*1.25)+\"\\n\")\n",
    "        \n",
    "        \n",
    "    print(\"\\t\\t\\t\\t\\t\\t\\t\\t\\tSubtotal Amount\\t\",totalCost,sep=\"\\t\")\n",
    "    print(\"\\t\\t\\t\\t\\t\\t\\t\\t\\tTotal Amount\\t\",t,sep=\"\\t\")\n",
    "    \n",
    "    print(\"_\"*200)\n",
    "    fd.write(\",,,,Subtotal Amount,\"+str(totalCost)+\"\\n\")\n",
    "    fd.write(\",,,,Total Amount,\"+str(t)+\"\\n\")\n",
    "    fd.close()"
   ]
  },
  {
   "cell_type": "code",
   "execution_count": 11,
   "metadata": {},
   "outputs": [
    {
     "ename": "NameError",
     "evalue": "name 'os' is not defined",
     "output_type": "error",
     "traceback": [
      "\u001b[1;31m---------------------------------------------------------------------------\u001b[0m",
      "\u001b[1;31mNameError\u001b[0m                                 Traceback (most recent call last)",
      "\u001b[1;32m~\\AppData\\Local\\Temp\\ipykernel_23244\\2867422102.py\u001b[0m in \u001b[0;36m<module>\u001b[1;34m\u001b[0m\n\u001b[1;32m----> 1\u001b[1;33m \u001b[0msales\u001b[0m\u001b[1;33m(\u001b[0m\u001b[1;33m)\u001b[0m\u001b[1;33m\u001b[0m\u001b[1;33m\u001b[0m\u001b[0m\n\u001b[0m",
      "\u001b[1;32m~\\AppData\\Local\\Temp\\ipykernel_23244\\2969189441.py\u001b[0m in \u001b[0;36msales\u001b[1;34m()\u001b[0m\n\u001b[0;32m      1\u001b[0m \u001b[1;32mdef\u001b[0m \u001b[0msales\u001b[0m\u001b[1;33m(\u001b[0m\u001b[1;33m)\u001b[0m\u001b[1;33m:\u001b[0m\u001b[1;33m\u001b[0m\u001b[1;33m\u001b[0m\u001b[0m\n\u001b[1;32m----> 2\u001b[1;33m     \u001b[0mfd\u001b[0m\u001b[1;33m=\u001b[0m\u001b[0mopen\u001b[0m\u001b[1;33m(\u001b[0m\u001b[0mos\u001b[0m\u001b[1;33m.\u001b[0m\u001b[0mpath\u001b[0m\u001b[1;33m.\u001b[0m\u001b[0mdirname\u001b[0m\u001b[1;33m(\u001b[0m\u001b[0m__file__\u001b[0m\u001b[1;33m)\u001b[0m\u001b[1;33m+\u001b[0m\u001b[1;34m\"\\Sales.json\"\u001b[0m\u001b[1;33m,\u001b[0m\u001b[1;34m\"r\"\u001b[0m\u001b[1;33m)\u001b[0m\u001b[1;33m\u001b[0m\u001b[1;33m\u001b[0m\u001b[0m\n\u001b[0m\u001b[0;32m      3\u001b[0m     \u001b[0ms\u001b[0m\u001b[1;33m=\u001b[0m\u001b[0mjson\u001b[0m\u001b[1;33m.\u001b[0m\u001b[0mloads\u001b[0m\u001b[1;33m(\u001b[0m\u001b[0mfd\u001b[0m\u001b[1;33m.\u001b[0m\u001b[0mread\u001b[0m\u001b[1;33m(\u001b[0m\u001b[1;33m)\u001b[0m\u001b[1;33m)\u001b[0m\u001b[1;33m\u001b[0m\u001b[1;33m\u001b[0m\u001b[0m\n\u001b[0;32m      4\u001b[0m     \u001b[0mfd\u001b[0m\u001b[1;33m.\u001b[0m\u001b[0mclose\u001b[0m\u001b[1;33m(\u001b[0m\u001b[1;33m)\u001b[0m\u001b[1;33m\u001b[0m\u001b[1;33m\u001b[0m\u001b[0m\n\u001b[0;32m      5\u001b[0m \u001b[1;33m\u001b[0m\u001b[0m\n",
      "\u001b[1;31mNameError\u001b[0m: name 'os' is not defined"
     ]
    }
   ],
   "source": [
    "sales()"
   ]
  },
  {
   "cell_type": "markdown",
   "metadata": {},
   "source": [
    "## Displaying Purchasings and Sales records "
   ]
  },
  {
   "cell_type": "markdown",
   "metadata": {},
   "source": [
    "## Purchasings Records "
   ]
  },
  {
   "cell_type": "code",
   "execution_count": null,
   "metadata": {},
   "outputs": [],
   "source": [
    "def displayPurchasings():\n",
    "    fd=open(os.path.dirname(__file__)+\"\\Purchasings.json\",\"r\")\n",
    "    s=json.loads(fd.read())\n",
    "    fd.close()\n",
    "    \n",
    "    timeDict={}\n",
    "    for i in s.keys():#i=merchant names\n",
    "        for j in s[i].keys():#j=timestamps\n",
    "            timeDict[j+\"|\"+i]=s[i][j]\n",
    "    \n",
    "    print(\"Serial number\\t\\tTime of the purchase\\t\\t\\tMerchant Name\\tMerchant Contact\\t\\tProduct id\\tQuantity Purchased\\tTotal Cost\")\n",
    "    timeArray=sorted(timeDict.keys())\n",
    "    for i in range(len(timeArray)):\n",
    "        c=timeArray[i].split(\"|\")\n",
    "        print((i+1),\"\\t\\t\\t\",c[0],\"\\t\\t\",c[1],\"\\t\",timeDict[timeArray[i]][\"contacts\"],\"\\t\",timeDict[timeArray[i]][\"id\"],\"\\t\\t\",timeDict[timeArray[i]][\"quantity\"],\"\\t\\t\\t\",timeDict[timeArray[i]][\"total cost\"],sep=\"\")"
   ]
  },
  {
   "cell_type": "markdown",
   "metadata": {},
   "source": [
    "## Sales Records"
   ]
  },
  {
   "cell_type": "code",
   "execution_count": null,
   "metadata": {},
   "outputs": [],
   "source": [
    "def displaySales():\n",
    "    fd=open(os.path.dirname(__file__)+\"\\Sales.json\",\"r\")\n",
    "    s=json.loads(fd.read())\n",
    "    fd.close()\n",
    "    \n",
    "    timeDict={}\n",
    "    for i in s.keys():#i=user names\n",
    "        for j in s[i].keys():#j=timestamps\n",
    "            timeDict[j+\"|\"+i]=s[i][j]\n",
    "    \n",
    "    print(\"Serial number\\t\\tTime of the buying\\t\\t\\tUser Name\\tUser Contact\\t\\tProduct id\\t\\tQuantity Bought\\t\\tTotal Cost\")\n",
    "    timeArray=sorted(timeDict.keys())\n",
    "    for i in range(len(timeArray)):\n",
    "        c=timeArray[i].split(\"|\")\n",
    "        print((i+1),\"\\t\\t\\t\",c[0],\"\\t\\t\",c[1],\"\\t\\t\",timeDict[timeArray[i]][\"contacts\"],\"\\t\\t\",timeDict[timeArray[i]][\"id\"],\"\\t\\t\\t\",timeDict[timeArray[i]][\"quantity\"],\"\\t\\t\\t\",timeDict[timeArray[i]][\"total cost\"],sep=\"\")"
   ]
  },
  {
   "cell_type": "markdown",
   "metadata": {},
   "source": [
    "## Integrating all functions together"
   ]
  },
  {
   "cell_type": "code",
   "execution_count": null,
   "metadata": {},
   "outputs": [],
   "source": [
    "while(True):\n",
    "    print(\"Please enter you choice by entering the corresponding numbers associated with the choices:- \")\n",
    "    print(\"1. Adding Products\")\n",
    "    print(\"2. Deleting products\")\n",
    "    print(\"3. Displaying Product details\")\n",
    "    print(\"4. Updating Inventory\")\n",
    "    print(\"5. Updating Price\")\n",
    "    print(\"6. Purchasing Items\")\n",
    "    print(\"7. Selling Items\")\n",
    "    print(\"8. Display Purchasings\")\n",
    "    print(\"9. Display Sales\")\n",
    "    print(\"10. Exiting Options\")\n",
    "    choice=input(\"Please enter your choice:- \")\n",
    "    \n",
    "    match choice:\n",
    "        case \"1\":\n",
    "            name=input(\"Please enter product name:- \")\n",
    "            p=int(input(\"Please enter unit price:- \"))\n",
    "            q=int(input(\"Please enter available quantity:- \"))\n",
    "            addProduct(name,p,q)\n",
    "        \n",
    "        case \"2\":\n",
    "            id=input(\"Please enter id of the product to be deleted:- \")\n",
    "            deleteProduct(id)\n",
    "\n",
    "        case \"3\":\n",
    "            id=input(\"Please enter product id:- \")\n",
    "            print(\"ID\\tName\\tUnit Price\\tQuantity Available\")\n",
    "            s=productDetails(id)\n",
    "            print(id,s[\"name\"],s[\"price\"],s[\"quantity\"],sep=\"\\t\")\n",
    "            \n",
    "        case \"4\":\n",
    "            id=input(\"Please enter product id:- \")\n",
    "            q=input(\"Please enter quantity to be added:- \")\n",
    "            updateInventory(id,int(q))\n",
    "\n",
    "        case \"5\":\n",
    "            id=input(\"Please enter id of the product whose unit price is to be updated:- \")\n",
    "            price=int(input(\"Please enter the new unit price of the product:- \"))\n",
    "            updatePrice(id,price)\n",
    "        \n",
    "        case \"6\":\n",
    "            purchase()\n",
    "            \n",
    "        case \"7\":\n",
    "            sales()\n",
    "        \n",
    "        case \"8\":\n",
    "            displayPurchasings()\n",
    "        case \"9\":\n",
    "            displaySales()\n",
    "        case \"10\":\n",
    "            break\n",
    "        case _:\n",
    "            print(\"You have entered an invalid choice. You may please try again.\")\n",
    "\n"
   ]
  },
  {
   "cell_type": "code",
   "execution_count": null,
   "metadata": {},
   "outputs": [],
   "source": []
  }
 ],
 "metadata": {
  "kernelspec": {
   "display_name": "Python 3 (ipykernel)",
   "language": "python",
   "name": "python3"
  },
  "language_info": {
   "codemirror_mode": {
    "name": "ipython",
    "version": 3
   },
   "file_extension": ".py",
   "mimetype": "text/x-python",
   "name": "python",
   "nbconvert_exporter": "python",
   "pygments_lexer": "ipython3",
   "version": "3.9.13"
  }
 },
 "nbformat": 4,
 "nbformat_minor": 2
}
